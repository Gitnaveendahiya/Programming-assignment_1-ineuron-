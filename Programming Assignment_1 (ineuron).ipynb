{
 "cells": [
  {
   "cell_type": "markdown",
   "id": "4a892ac0",
   "metadata": {},
   "source": [
    "# Que 1:-Write a Python program to print \"Hello Python\"?"
   ]
  },
  {
   "cell_type": "markdown",
   "id": "a7c49cc4",
   "metadata": {},
   "source": [
    "Ans1:- we can just give a print command to print out that particular thing.just remember that your hello python is always in between single or double quotes with bracketes."
   ]
  },
  {
   "cell_type": "code",
   "execution_count": 1,
   "id": "13871f63",
   "metadata": {},
   "outputs": [
    {
     "name": "stdout",
     "output_type": "stream",
     "text": [
      "Hello Python\n"
     ]
    }
   ],
   "source": [
    "print(\"Hello Python\")"
   ]
  },
  {
   "cell_type": "markdown",
   "id": "7c365025",
   "metadata": {},
   "source": [
    "# Que 2:-Write a Python program to do arithmetical operations addition and division."
   ]
  },
  {
   "cell_type": "code",
   "execution_count": 2,
   "id": "80034e37",
   "metadata": {},
   "outputs": [
    {
     "name": "stdout",
     "output_type": "stream",
     "text": [
      "enter your first number\n",
      "45\n",
      "enter your secound number\n",
      "88\n",
      "addition of these two numbers are:\n",
      " 133\n",
      "Division of these two numbers are:\n",
      " 0.5113636363636364\n"
     ]
    }
   ],
   "source": [
    "#Ans 2:-\n",
    "#addition and division\n",
    "a=int(input(\"enter your first number\\r\"))\n",
    "b=int(input(\"enter your secound number\\r\"))\n",
    "c=a+b\n",
    "d=a/b\n",
    "print (\"addition of these two numbers are:\\n\",c)\n",
    "print(\"Division of these two numbers are:\\n\",d)"
   ]
  },
  {
   "cell_type": "markdown",
   "id": "0e285f2c",
   "metadata": {},
   "source": [
    "# Que 3:-Write a Python program to find the area of a triangle?\n"
   ]
  },
  {
   "cell_type": "code",
   "execution_count": 3,
   "id": "2f0553e0",
   "metadata": {},
   "outputs": [
    {
     "name": "stdout",
     "output_type": "stream",
     "text": [
      "65\n",
      "55\n",
      "1787.5 square meter\n"
     ]
    }
   ],
   "source": [
    "#Ans 3:-\n",
    "height=int(input())\n",
    "base=int(input())\n",
    "area=(height*base)/2\n",
    "print(area,\"square meter\")"
   ]
  },
  {
   "cell_type": "markdown",
   "id": "43c56258",
   "metadata": {},
   "source": [
    "# Que 4:-Write a Python program to swap two variables?\n"
   ]
  },
  {
   "cell_type": "code",
   "execution_count": 2,
   "id": "f2a63076",
   "metadata": {},
   "outputs": [
    {
     "name": "stdout",
     "output_type": "stream",
     "text": [
      "new value of a\n",
      " 65\n",
      "new value of b\n",
      " 45\n"
     ]
    }
   ],
   "source": [
    "#Ans 4:-\n",
    "#Swap two vaiables\n",
    "a=45\n",
    "b=65\n",
    "a,b=b,a\n",
    "print(\"new value of a\\n\",a)\n",
    "print(\"new value of b\\n\",b)"
   ]
  },
  {
   "cell_type": "markdown",
   "id": "b299f286",
   "metadata": {},
   "source": [
    "# Que 5:-Write a Python program to generate a random number?"
   ]
  },
  {
   "cell_type": "code",
   "execution_count": 4,
   "id": "e76e1639",
   "metadata": {},
   "outputs": [
    {
     "name": "stdout",
     "output_type": "stream",
     "text": [
      "400\n"
     ]
    }
   ],
   "source": [
    "#Ans 5:-\n",
    "#Generate a random number\n",
    "import random\n",
    "print(random.randint(0,555))"
   ]
  },
  {
   "cell_type": "code",
   "execution_count": null,
   "id": "d68c917d",
   "metadata": {},
   "outputs": [],
   "source": []
  }
 ],
 "metadata": {
  "kernelspec": {
   "display_name": "Python 3 (ipykernel)",
   "language": "python",
   "name": "python3"
  },
  "language_info": {
   "codemirror_mode": {
    "name": "ipython",
    "version": 3
   },
   "file_extension": ".py",
   "mimetype": "text/x-python",
   "name": "python",
   "nbconvert_exporter": "python",
   "pygments_lexer": "ipython3",
   "version": "3.9.7"
  }
 },
 "nbformat": 4,
 "nbformat_minor": 5
}
